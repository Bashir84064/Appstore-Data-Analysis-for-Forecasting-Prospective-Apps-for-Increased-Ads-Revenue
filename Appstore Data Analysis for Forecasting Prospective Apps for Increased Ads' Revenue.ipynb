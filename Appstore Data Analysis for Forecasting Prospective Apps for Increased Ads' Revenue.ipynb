{
 "cells": [
  {
   "cell_type": "markdown",
   "metadata": {},
   "source": [
    "## Appstore Data Analysis for Forecasting Prospective Apps for Increased Ads' Revenue\n",
    "\n",
    "* This project is supposed to get a better insight on which apps to be developed both for android and apple market.The basic intention is to make free apps and get revenue through ads,so by analysing the data we may tell what kind of apps to be developed for greater revenue by increasing users\n",
    "\n",
    "* The business idea runs as to find profitable app categories from the android market,develop a beta of app,upload it to\n",
    "  android store,If the app does good in terms of installs and reviews ,then build a advanced version and monitor its     revenue for six months.If the revenues are healthy,then develop the similar app for ios appstore\n",
    "\n",
    "* The datasets for both android play store and ios store are obtained from the open source data science platform Keggle.\n",
    "  Links for both data sets are mentioned below\n",
    "  \n",
    "1. Android play store [dataset](https://www.kaggle.com/lava18/google-play-store-apps/home)\n",
    "2. IOS appstore [dataset](https://www.kaggle.com/ramamet4/app-store-apple-data-set-10k-apps/home)\n",
    "  \n",
    "* This project exolores various methods for manipulating list,dictionaries and frequency tables.Apart from that,the major emphasis of this project is explore the dataset with limited manual commands and automize the whole process.\n",
    "\n",
    "* Throughout the project google playstore ,android store and other well known terms used for android market points to **Google Playstore**.Similarly **apple appstore** and **ios appstore** are used equivalently"
   ]
  },
  {
   "cell_type": "markdown",
   "metadata": {},
   "source": [
    "## Function for opening Dataset\n",
    "\n",
    "* named as **open_dataset(data_set,header= False)**\n",
    "* opens Dataset as list of a list\n",
    "* separates header which is basically the information of different attributes\n",
    "* takes in by default header parameter to be true.If there is no header in dataset,to be mentioned explicilty"
   ]
  },
  {
   "cell_type": "code",
   "execution_count": 1,
   "metadata": {},
   "outputs": [],
   "source": [
    "def open_dataset(data_set,header=True):\n",
    "    opened = open(data_set)\n",
    "    from csv import reader\n",
    "    read_file = reader(opened)\n",
    "    data = list(read_file)\n",
    "    data_set = data[1:]\n",
    "    attr_info = data[0]\n",
    "    return data_set ,attr_info\n",
    "\n"
   ]
  },
  {
   "cell_type": "code",
   "execution_count": 2,
   "metadata": {},
   "outputs": [],
   "source": [
    "apple,apple_head = open_dataset('/home/bashir/Documents/Dataquest/Guided Project: Profitable App Profiles for the App Store and Google Play Markets/app-store-apple-data-set-10k-apps/AppleStore.csv')"
   ]
  },
  {
   "cell_type": "code",
   "execution_count": 3,
   "metadata": {},
   "outputs": [],
   "source": [
    "google,google_head = open_dataset('/home/bashir/Documents/Dataquest/Guided Project: Profitable App Profiles for the App Store and Google Play Markets/google-play-store-apps/googleplaystore.csv')"
   ]
  },
  {
   "cell_type": "markdown",
   "metadata": {},
   "source": [
    "## explore_data() function\n",
    "\n",
    "* takes in dataset without header,starting index,end index\n",
    "* print out the information as specified\n",
    "* as an optional feature,if row_and _columns are made * True * ,also print out number of features and total rows(apps_data) in the data set"
   ]
  },
  {
   "cell_type": "code",
   "execution_count": 4,
   "metadata": {},
   "outputs": [],
   "source": [
    "def explore_data(dataset, start, end, rows_and_columns=False):\n",
    "    dataset_slice = dataset[start:end]    \n",
    "    for row in dataset_slice:\n",
    "        print(row)\n",
    "        print('\\n') # adds a new (empty) line after each row\n",
    "\n",
    "    if rows_and_columns:\n",
    "        print('Number of rows:', len(dataset))\n",
    "        print('Number of columns:', len(dataset[0]))"
   ]
  },
  {
   "cell_type": "markdown",
   "metadata": {},
   "source": [
    "## Attributes Information\n",
    "\n",
    "* Next step naturally is to get some information about the attributes i.e.column names in the data set\n",
    "* For google play store,they are stored in google_head\n",
    "* For apple play store,they are stored in apple_head"
   ]
  },
  {
   "cell_type": "markdown",
   "metadata": {},
   "source": [
    "#                  Impotrant Attributes from Playstore\n",
    "\n",
    "* The following attributes will give a good insight in making best selling apps for android market place\n",
    "\n",
    "| **Attributes**     | **Information**                |\n",
    "|:-----------    |:---------------------------|\n",
    "| **App** | Name of the app\n",
    "| **Rating**         | Average user rating        |\n",
    "| **Price**          | price category             |\n",
    "| **Installs**       | Total downloads            |\n",
    "| **Genres**         | Category the app falls into|\n",
    "| **Content Rating** | Suitability for age groups |\n",
    "\n",
    "* Further information about the data set can be obtained by clicking the following [link](https://www.kaggle.com/lava18/google-play-store-apps/home)\n",
    "\n",
    "* Below we can view ,attributes names and some rows of the sata set"
   ]
  },
  {
   "cell_type": "code",
   "execution_count": 5,
   "metadata": {},
   "outputs": [
    {
     "name": "stdout",
     "output_type": "stream",
     "text": [
      "['App', 'Category', 'Rating', 'Reviews', 'Size', 'Installs', 'Type', 'Price', 'Content Rating', 'Genres', 'Last Updated', 'Current Ver', 'Android Ver']\n",
      "----------------------------------------------------------------\n",
      "Some rows or apps contained :\n",
      "----------------------------------------------------------------\n",
      "['Photo Editor & Candy Camera & Grid & ScrapBook', 'ART_AND_DESIGN', '4.1', '159', '19M', '10,000+', 'Free', '0', 'Everyone', 'Art & Design', 'January 7, 2018', '1.0.0', '4.0.3 and up']\n",
      "\n",
      "\n",
      "['Coloring book moana', 'ART_AND_DESIGN', '3.9', '967', '14M', '500,000+', 'Free', '0', 'Everyone', 'Art & Design;Pretend Play', 'January 15, 2018', '2.0.0', '4.0.3 and up']\n",
      "\n",
      "\n",
      "['U Launcher Lite – FREE Live Cool Themes, Hide Apps', 'ART_AND_DESIGN', '4.7', '87510', '8.7M', '5,000,000+', 'Free', '0', 'Everyone', 'Art & Design', 'August 1, 2018', '1.2.4', '4.0.3 and up']\n",
      "\n",
      "\n"
     ]
    }
   ],
   "source": [
    "print(google_head)\n",
    "print('----------------------------------------------------------------')\n",
    "print('Some rows or apps contained :')\n",
    "print('----------------------------------------------------------------')\n",
    "explore_data(google,0,3)\n"
   ]
  },
  {
   "cell_type": "markdown",
   "metadata": {},
   "source": [
    "#                  Impotrant Attributes from Appstore\n",
    "\n",
    "* The following attributes will give a good insight in making best selling apps for ios market place\n",
    "\n",
    "| Attributes             | Information                |\n",
    "|:-------------------    |:---------------------------|\n",
    "| **user_rating**        | Average user rating        |\n",
    "| **price**              | Price category             |\n",
    "| **track_name**         | App name                   |\n",
    "| **prime_Genre**        | Category the app falls into|\n",
    "| **cont_Rating**       | Suitability for age groups |\n",
    "| **size_bytes**         | App size in bytes          |\n",
    "\n",
    "* Further information about the data set can be obtained by clicking the following [link](https://www.kaggle.com/ramamet4/app-store-apple-data-set-10k-apps/home)\n",
    "\n",
    "*  Below we can view ,attributes names and some rows of the sata set"
   ]
  },
  {
   "cell_type": "code",
   "execution_count": 6,
   "metadata": {},
   "outputs": [
    {
     "name": "stdout",
     "output_type": "stream",
     "text": [
      "['', 'id', 'track_name', 'size_bytes', 'currency', 'price', 'rating_count_tot', 'rating_count_ver', 'user_rating', 'user_rating_ver', 'ver', 'cont_rating', 'prime_genre', 'sup_devices.num', 'ipadSc_urls.num', 'lang.num', 'vpp_lic']\n",
      "----------------------------------------------------------------\n",
      "Some rows or apps contained :\n",
      "----------------------------------------------------------------\n",
      "['1', '281656475', 'PAC-MAN Premium', '100788224', 'USD', '3.99', '21292', '26', '4', '4.5', '6.3.5', '4+', 'Games', '38', '5', '10', '1']\n",
      "\n",
      "\n",
      "['2', '281796108', 'Evernote - stay organized', '158578688', 'USD', '0', '161065', '26', '4', '3.5', '8.2.2', '4+', 'Productivity', '37', '5', '23', '1']\n",
      "\n",
      "\n",
      "['3', '281940292', 'WeatherBug - Local Weather, Radar, Maps, Alerts', '100524032', 'USD', '0', '188583', '2822', '3.5', '4.5', '5.0.0', '4+', 'Weather', '37', '5', '3', '1']\n",
      "\n",
      "\n"
     ]
    }
   ],
   "source": [
    "print(apple_head)\n",
    "print('----------------------------------------------------------------')\n",
    "print('Some rows or apps contained :')\n",
    "print('----------------------------------------------------------------')\n",
    "explore_data(apple,0,3)"
   ]
  },
  {
   "cell_type": "markdown",
   "metadata": {},
   "source": [
    "## Anamolities in Google Store Data\n",
    "\n",
    "* One row has a missin value for categories and in return other values are also in wrong order.This error is discussed in great detail here [error](https://www.kaggle.com/lava18/google-play-store-apps/discussion/66015).\n",
    "\n",
    "* The best possible solution is to locate the row and delete it because one row wont affect the analysis\n",
    "\n",
    "* Below we find the index of the row from our dataset and then will delete it"
   ]
  },
  {
   "cell_type": "code",
   "execution_count": 7,
   "metadata": {},
   "outputs": [
    {
     "name": "stdout",
     "output_type": "stream",
     "text": [
      "['Life Made WI-Fi Touchscreen Photo Frame', '1.9', '19', '3.0M', '1,000+', 'Free', '0', 'Everyone', '', 'February 11, 2018', '1.0.19', '4.0 and up']\n",
      "\n",
      "\n",
      "['osmino Wi-Fi: free WiFi', 'TOOLS', '4.2', '134203', '4.1M', '10,000,000+', 'Free', '0', 'Everyone', 'Tools', 'August 7, 2018', '6.06.14', '4.4 and up']\n",
      "\n",
      "\n"
     ]
    }
   ],
   "source": [
    "''' finding the exact location from over dataset which does \n",
    "    not contain the header.It is 10473 row so its index is \n",
    "    10472'''\n",
    "\n",
    "explore_data(google,10472,10473) \n",
    "\n",
    "# deleting the specified row\n",
    "del google[10472]\n",
    "\n",
    "# using the same index again to see if its deleted\n",
    "explore_data(google,10472,10473)\n"
   ]
  },
  {
   "cell_type": "markdown",
   "metadata": {},
   "source": [
    "## Duplicate Entries in Google Play store Data\n",
    "\n",
    "* First approach of any data  science technique is to look out for duplicate data.\n",
    "* The google playstore data set contains duplicate data which can be studied in the following keggle discussion\n",
    "   [duplicate_entries](https://www.kaggle.com/lava18/google-play-store-apps/discussion/67894)\n",
    "* But its always better to look for yourself,for which we created a frequency table i.e. dictionery which stores the names of apps and count their repetitions.\n",
    "* Since the data is crumbersome, we made it even more interesting by storing the key of the dictioneries i.e. apps name having duplicate entries.In this way,by just printing out the few entries of list,we can observe repetitions.\n",
    "* Total duplications are also kept in record which can be observed from the repetitions variable\n",
    "* For better understanding a frequency table is also maintained to check repetition against every app\n",
    "* check_for_duplicate performs this task and it is completely generic because it requires a dataset in form of rows of rows and index containing the names.    "
   ]
  },
  {
   "cell_type": "code",
   "execution_count": 8,
   "metadata": {},
   "outputs": [],
   "source": [
    "def check_for_duplicate(dataset,name_index):\n",
    "    duplicate_freq ={}\n",
    "    list_duplicate = []\n",
    "    repetition = 0\n",
    "    for row in dataset:\n",
    "        name = row[name_index]\n",
    "        if name in duplicate_freq:\n",
    "            duplicate_freq[name] += 1\n",
    "            repetition +=1\n",
    "        else:\n",
    "            duplicate_freq[name] = 1\n",
    "\n",
    "\n",
    "    for key in duplicate_freq:\n",
    "        if duplicate_freq[key] > 1:\n",
    "            list_duplicate.append(key)\n",
    "\n",
    "\n",
    "    return  repetition,list_duplicate, duplicate_freq\n",
    "\n",
    "\n",
    "\n",
    "\n",
    "    \n"
   ]
  },
  {
   "cell_type": "markdown",
   "metadata": {},
   "source": [
    "## Results and Observation\n",
    "\n",
    "* By observing the data set using the routine we have 1181 repetitive entries\n",
    "* Some of the apps are shown which are duplicated.\n",
    "* Lets study the data for 'Mcqueen Coloring pages' and make some decisions on how to handle duplication\n",
    "\n"
   ]
  },
  {
   "cell_type": "code",
   "execution_count": 9,
   "metadata": {},
   "outputs": [
    {
     "name": "stdout",
     "output_type": "stream",
     "text": [
      "Total repetitive entries in google data set are : 1181\n",
      "------------------------------------------------------------------\n",
      "Some of the  repetitive entries are\n",
      "['Coloring book moana', 'Mcqueen Coloring pages', 'UNICORN - Color By Number & Pixel Art Coloring', 'Textgram - write on photos', 'Wattpad 📖 Free Books']\n",
      "---------------------------------------------\n",
      "Number of duplicate entries for \"Mcqueen Coloring pages\":\n",
      "2\n"
     ]
    }
   ],
   "source": [
    "repetition,list_duplicate,frequency = check_for_duplicate(google,0)\n",
    "\n",
    "print('Total repetitive entries in google data set are :', repetition)\n",
    "print('------------------------------------------------------------------')\n",
    "print('Some of the  repetitive entries are')\n",
    "print(list_duplicate[:5])\n",
    "print('---------------------------------------------')\n",
    "print('Number of duplicate entries for \"Mcqueen Coloring pages\":')\n",
    "print(frequency['Mcqueen Coloring pages' ])"
   ]
  },
  {
   "cell_type": "markdown",
   "metadata": {},
   "source": [
    "## Comparing the Duplicate Entries\n",
    "\n",
    "* Lets compare the duplicate entries and see how can we come up with a system to get rid of them and make the data cleaner"
   ]
  },
  {
   "cell_type": "code",
   "execution_count": 10,
   "metadata": {},
   "outputs": [
    {
     "name": "stdout",
     "output_type": "stream",
     "text": [
      "['Mcqueen Coloring pages', 'ART_AND_DESIGN', 'NaN', '61', '7.0M', '100,000+', 'Free', '0', 'Everyone', 'Art & Design;Action & Adventure', 'March 7, 2018', '1.0.0', '4.1 and up']\n",
      "------------------------------\n",
      "['Mcqueen Coloring pages', 'FAMILY', 'NaN', '65', '7.0M', '100,000+', 'Free', '0', 'Everyone', 'Art & Design;Action & Adventure', 'March 7, 2018', '1.0.0', '4.1 and up']\n",
      "------------------------------\n"
     ]
    }
   ],
   "source": [
    " for row in google:\n",
    "        if row[0]== 'Mcqueen Coloring pages':\n",
    "            print(row)\n",
    "            print('------------------------------')"
   ]
  },
  {
   "cell_type": "markdown",
   "metadata": {},
   "source": [
    "#### By close Inspection we can observe,the differences lie in:\n",
    "\n",
    "* Categories\n",
    "* Number of reviews\n",
    "* We can infer that since we have genre as an indicator in the dataset also which matches for both entries and a better indicator than category which is a bigger set.And difference in number of reviews means that with time,some users also decided to give their opinion about the app whether googd or bad.\n",
    "* The practical decision would be to keep the row i.e appdata with greater number of reviews"
   ]
  },
  {
   "cell_type": "markdown",
   "metadata": {},
   "source": [
    "## Steps in Cleaning the Duplicate entries from Google Dataset\n",
    "\n",
    "1. As discussed above,we need to take the app copy which has the maximum number of reviews.For this reason,we create a \n",
    "   dictionery **reviews_max** and store that entries of apps having maximum reviews.This dictionery will help us in       creating our non duplicate data set **android_clean**\n",
    "  \n",
    "2. To create the dctionery,loop through the *google* dataset,store the app name as name and review as n_reviews.Check if the name is in the dictionery as a key and whether the value at that key is less than n_reviews.If both conditions are true ,store the n_reviews as updated value.In this way,we update the review for each app in the dictionery.\n",
    "\n",
    "3. Now its time to create the dateset without duplicate entries i.e. android_clean.For that puporse create two empty lists,**android_clean** and **already_added**. \n",
    "\n",
    "4. Loop through the **google dataset**,store the app name as name and review as n_reviews again.Check for the name to be not part of the **already_added list**  and  **n_reviews** matches the value at the corresponding key of  **reviews_max**,then append the whole row to the **android_clean** list(In this way,we get the list of list dataset just like **google**) and store the name in **already_added** list\n",
    "\n",
    "5. If the name is already in the **already_added** ,we will do nothing,in this way our new data set will be free of duplicate entries.\n",
    "\n",
    "6. Now its time to check,if the cleaned data is actually valid.Its length should be equal to length of google minus **repetition**\n"
   ]
  },
  {
   "cell_type": "code",
   "execution_count": 11,
   "metadata": {},
   "outputs": [],
   "source": [
    "# Creating dictionery containing only single entries of apps sorted with their maximum reviews\n",
    "\n",
    "reviews_max = {}\n",
    "for row in google:\n",
    "    name = row[0]\n",
    "    n_reviews = float(row[3])\n",
    "    if (name in reviews_max) and reviews_max[name]< n_reviews :\n",
    "        reviews_max[name] = n_reviews\n",
    "    elif name not in reviews_max:\n",
    "        reviews_max[name] = n_reviews\n",
    "       \n",
    "    "
   ]
  },
  {
   "cell_type": "code",
   "execution_count": 12,
   "metadata": {},
   "outputs": [],
   "source": [
    "android_clean =[]  # new android dataset without any duplicates\n",
    "already_added =[]  #book_keeping list for apps names that are already in non<-duplicate version of dataset\n",
    "for row in google:\n",
    "    name = row[0]\n",
    "    n_reviews = float(row[3])\n",
    "    if (n_reviews == reviews_max[name]) and name not in already_added:\n",
    "        android_clean.append(row)\n",
    "        already_added.append(name)"
   ]
  },
  {
   "cell_type": "code",
   "execution_count": 13,
   "metadata": {},
   "outputs": [
    {
     "name": "stdout",
     "output_type": "stream",
     "text": [
      "If the new cleaned dataset is valid ?\n",
      " True\n"
     ]
    }
   ],
   "source": [
    "# This block will print true if the cleaned data has correct length\n",
    "check_length = len(google) - repetition\n",
    "print('If the new cleaned dataset is valid ?\\n',check_length == len(android_clean))"
   ]
  },
  {
   "cell_type": "markdown",
   "metadata": {},
   "source": [
    "## Analyzing Apps with English Names\n",
    "\n",
    "* At this point of our analysis,we are interested in only analyzing apps for the english speaking market.\n",
    "* For this reason,we have to remove all the **Non-English** apps from the data.\n",
    "* We will employ the use of ASCII characters.Characters in english language have ASCII Values upto 127.\n",
    "* But for some apps including **'Docs To Go™ Free Office Suite'** and **'Instachat😜'**,characters like **™** and **😜** have ASCII values greater than 127 but we dont want to remove our legitimate data.\n",
    "\n",
    "* For this reason, we keep a check that if the app name has under three characters greater than 127, we consider it to be a English name\n",
    "\n",
    "* Function **is_thename_english** checks for the condition"
   ]
  },
  {
   "cell_type": "code",
   "execution_count": 14,
   "metadata": {},
   "outputs": [],
   "source": [
    "def is_thename_english(string):\n",
    "    count = 0\n",
    "    for c in string:\n",
    "        \n",
    "        if ord(c) > 127:\n",
    "            count +=1\n",
    "            if count > 3:\n",
    "                return False\n",
    "     \n",
    "    return True"
   ]
  },
  {
   "cell_type": "markdown",
   "metadata": {},
   "source": [
    "## Google Playstore Dataset with English Names\n",
    "\n",
    "1. Below ,we remove the apps having other than english names.\n",
    "2. **english_android_clean** is the new polished dataset.\n",
    "3. Basically we move through each row of our dataset,apply the function **is_thename_english**, and append the correct row to *englih_android_clean*,making it a list of  a list.\n",
    "4. We can observe the number of non-english apps also by   ***len(android_clean)-len(english_android_clean)***"
   ]
  },
  {
   "cell_type": "code",
   "execution_count": 15,
   "metadata": {},
   "outputs": [
    {
     "name": "stdout",
     "output_type": "stream",
     "text": [
      "The total number of English language apps are :\n",
      "9614\n",
      "--------------------------------------------------\n",
      "The total number of non-English language apps are :\n",
      "45\n"
     ]
    }
   ],
   "source": [
    "# english_android_clean is new datatset contained for english apps\n",
    "english_android_clean =[]\n",
    "for row in android_clean:\n",
    "   \n",
    "    name = row[0]\n",
    "    if (is_thename_english(name)):\n",
    "        english_android_clean.append(row)\n",
    "print('The total number of English language apps are :') \n",
    "print(len(english_android_clean))\n",
    "print('--------------------------------------------------')\n",
    "print('The total number of non-English language apps are :')\n",
    "print(len(android_clean)-len(english_android_clean))"
   ]
  },
  {
   "cell_type": "markdown",
   "metadata": {},
   "source": [
    "## Apple Playstore Dataset with English Names\n",
    "\n",
    "1. Now applying the same procedure with the apple dataset.\n",
    "2. Just to keep in mind that the index for app names is 1 instead of 0\n",
    "3. **english_apple** is the new dataset containing only english name apps\n",
    "4. There are 6183 apps suitable for English speaking market"
   ]
  },
  {
   "cell_type": "code",
   "execution_count": 16,
   "metadata": {},
   "outputs": [
    {
     "name": "stdout",
     "output_type": "stream",
     "text": [
      "The total number of English language apps are :\n",
      "6183\n",
      "--------------------------------------------------\n",
      "The total number of non English language apps are :\n",
      "1014\n"
     ]
    }
   ],
   "source": [
    "# english_apple is new datatset contained for english apps\n",
    "english_apple =[]\n",
    "for row in apple:\n",
    "   \n",
    "    name = row[2]\n",
    "    if (is_thename_english(name)):\n",
    "        english_apple.append(row)\n",
    "print('The total number of English language apps are :') \n",
    "print(len(english_apple))\n",
    "print('--------------------------------------------------')\n",
    "print('The total number of non English language apps are :')\n",
    "print(len(apple)-len(english_apple))"
   ]
  },
  {
   "cell_type": "markdown",
   "metadata": {},
   "source": [
    "## Free Apps\n",
    "\n",
    "* The final step of our data cleaning is to sort the datasets with respect to only free apps.\n",
    "* Since it was our main goal to predict type of free apps that would be installed more and in return give us revenue through ads.So for this reason our final dataset for android will be **android_final** and for apple ios will be **apple_final**\n"
   ]
  },
  {
   "cell_type": "code",
   "execution_count": 17,
   "metadata": {},
   "outputs": [
    {
     "name": "stdout",
     "output_type": "stream",
     "text": [
      "After all cleaning\n",
      "------------------------------------------------------------------------------\n",
      "The Android Appstore(Google Appstore) contains entries : 8864\n",
      "And attributes(columns) 13\n",
      "------------------------------------------------------------------------------\n",
      "The IOS Appstore(Apple Appstore) contains entries : 3222\n",
      "And attributes(columns) 17\n"
     ]
    }
   ],
   "source": [
    "\n",
    "# first column of apple al\n",
    "apple_final = []\n",
    "for row in english_apple:\n",
    "    price = float(row[5])\n",
    "    if price == 0:\n",
    "        apple_final.append(row)\n",
    "\n",
    "# for google play data set\n",
    "android_final = []\n",
    "for row in english_android_clean:\n",
    "    price = float(row[7].replace('$',''))\n",
    "    if price == 0:\n",
    "        android_final.append(row)\n",
    "        \n",
    "print('After all cleaning')\n",
    "print('------------------------------------------------------------------------------')\n",
    "print('The Android Appstore(Google Appstore) contains entries :', len(android_final))\n",
    "print('And attributes(columns)',len(google_head))\n",
    "print('------------------------------------------------------------------------------')\n",
    "print('The IOS Appstore(Apple Appstore) contains entries :', len(apple_final))\n",
    "print('And attributes(columns)',len(apple_head))\n",
    "        \n"
   ]
  },
  {
   "cell_type": "markdown",
   "metadata": {},
   "source": [
    "# Business Model for App Development\n",
    "\n",
    "We can explain the business model we are interested in as follows: \n",
    "\n",
    "1. Make an android app (minimal and lite version) and upload it on google store.\n",
    "2. If it gets a good response from users in terms of downloads of the beta,develop it full and optimize it.\n",
    "3. Wait for 6 months,if the app turns profitable ,devlop an ios version also.\n",
    "\n",
    "* We can analyze our datasets and get insights for popular apps by creating a frequnce table wrt genre.Lets begin\n",
    "\n"
   ]
  },
  {
   "cell_type": "markdown",
   "metadata": {},
   "source": [
    "## What is  'freq_generator'  function doing\n",
    "\n",
    "1. It takes in a dataset i.e. list of a list and the index of the dataset for which it builds a frequency table.\n",
    "2. Showing the frequency table in percentage is easier to visualize for which the **len** function comes in handy.\n",
    "3. We are also interested in sorting the frequency table in descending order. The function **sorted()** does not work that efficiently with dictionaries i.e. it only considers its keys,not their corresponding values.\n",
    "4. For that specific reason, we convert the each key-value pair to a tuple.It is important to place the value first.\n",
    "5. Append these tupples to a list and now the **sorted()** function will give us the required insight.\n"
   ]
  },
  {
   "cell_type": "code",
   "execution_count": 18,
   "metadata": {},
   "outputs": [],
   "source": [
    "def freq_generator(dataset,index):\n",
    "    genre_freq = {}\n",
    "    freq_list = []\n",
    "    for row in dataset:\n",
    "        genre_var = row[index]\n",
    "        if genre_var in genre_freq:\n",
    "            genre_freq[genre_var] += 1\n",
    "        else :\n",
    "            genre_freq[genre_var] = 1\n",
    "\n",
    "    for genre_var in genre_freq:\n",
    "        genre_freq[genre_var] /= len(dataset)\n",
    "        genre_freq[genre_var] *= 100\n",
    "\n",
    "   \n",
    "\n",
    "    for key in genre_freq:\n",
    "        t = (genre_freq[key],key)\n",
    "        freq_list.append(t)\n",
    "    \n",
    "    \n",
    "    freq_list = sorted(freq_list,reverse=True)\n",
    "        \n",
    "    return freq_list\n",
    "    \n",
    "   \n",
    "    \n",
    "\n",
    "    "
   ]
  },
  {
   "cell_type": "markdown",
   "metadata": {},
   "source": [
    "# Google Data Set\n",
    "\n",
    "\n",
    "### Contribution from top 20 Categories and Genre App\n",
    "\n",
    "* After the frequency table is set up, we are interested to see the frequencies for *Category* and *Genres* columns.\n",
    "* It would also help to print out the contributions from top 20 categories and genres in the list.\n",
    "* This analysis would help us to focus on probable most downloaded categories and genres and save the hassle to look into unimportant one"
   ]
  },
  {
   "cell_type": "markdown",
   "metadata": {},
   "source": [
    "### ______________The  Case Of Categories___________________________"
   ]
  },
  {
   "cell_type": "code",
   "execution_count": 19,
   "metadata": {
    "scrolled": false
   },
   "outputs": [
    {
     "name": "stdout",
     "output_type": "stream",
     "text": [
      "The following are valuable insights from the \"Category\" column of Google play store dataset :\n",
      "----------------------------------------------------------------\n",
      "Below are the top_20 Categories of most Downloaded apps with their percentage :\n",
      "FAMILY : 18.907942238267147\n",
      "GAME : 9.724729241877256\n",
      "TOOLS : 8.461191335740072\n",
      "BUSINESS : 4.591606498194946\n",
      "LIFESTYLE : 3.9034296028880866\n",
      "PRODUCTIVITY : 3.892148014440433\n",
      "FINANCE : 3.7003610108303246\n",
      "MEDICAL : 3.531137184115524\n",
      "SPORTS : 3.395758122743682\n",
      "PERSONALIZATION : 3.3167870036101084\n",
      "COMMUNICATION : 3.2378158844765346\n",
      "HEALTH_AND_FITNESS : 3.0798736462093865\n",
      "PHOTOGRAPHY : 2.944494584837545\n",
      "NEWS_AND_MAGAZINES : 2.7978339350180503\n",
      "SOCIAL : 2.6624548736462095\n",
      "TRAVEL_AND_LOCAL : 2.33528880866426\n",
      "SHOPPING : 2.2450361010830324\n",
      "BOOKS_AND_REFERENCE : 2.1435018050541514\n",
      "DATING : 1.861462093862816\n",
      "VIDEO_PLAYERS : 1.7937725631768955\n",
      "-----------------------------------------------------------------\n",
      "The top_20 apps Categories contribute to Downloads :\n",
      "88.52662454873648 %\n"
     ]
    }
   ],
   "source": [
    "\n",
    "print('The following are valuable insights from the \"Category\" column of Google play store dataset :')\n",
    "google_Cat_freq = freq_generator(android_final,1)\n",
    "\n",
    "# Check for top 20 Categories contributions\n",
    "\n",
    "slice_freq = google_Cat_freq[:20]\n",
    "top_20 = 0\n",
    "print('----------------------------------------------------------------')\n",
    "print('Below are the top_20 Categories of most Downloaded apps with their percentage :')\n",
    "for item in slice_freq:\n",
    "    top_20 += float(item[0])\n",
    "    print(item[1],':',item[0])\n",
    "\n",
    "print('-----------------------------------------------------------------')\n",
    "print('The top_20 apps Categories contribute to Downloads :')\n",
    "print(top_20,'%')\n",
    "\n"
   ]
  },
  {
   "cell_type": "markdown",
   "metadata": {},
   "source": [
    "### ______________The  Case Of Genres___________________________"
   ]
  },
  {
   "cell_type": "code",
   "execution_count": 20,
   "metadata": {},
   "outputs": [
    {
     "name": "stdout",
     "output_type": "stream",
     "text": [
      "The following are valuable insights from the \"Genre\" column of Google play store dataset :\n",
      "----------------------------------------------------------------\n",
      "Below are the top_20 Genres of most Downloaded apps with their percentage  :\n",
      "Tools : 8.449909747292418\n",
      "Entertainment : 6.069494584837545\n",
      "Education : 5.347472924187725\n",
      "Business : 4.591606498194946\n",
      "Productivity : 3.892148014440433\n",
      "Lifestyle : 3.892148014440433\n",
      "Finance : 3.7003610108303246\n",
      "Medical : 3.531137184115524\n",
      "Sports : 3.463447653429603\n",
      "Personalization : 3.3167870036101084\n",
      "Communication : 3.2378158844765346\n",
      "Action : 3.1024368231046933\n",
      "Health & Fitness : 3.0798736462093865\n",
      "Photography : 2.944494584837545\n",
      "News & Magazines : 2.7978339350180503\n",
      "Social : 2.6624548736462095\n",
      "Travel & Local : 2.3240072202166067\n",
      "Shopping : 2.2450361010830324\n",
      "Books & Reference : 2.1435018050541514\n",
      "Simulation : 2.0419675090252705\n",
      "-----------------------------------------------------------------\n",
      "The top_20 apps Genres contribute to Downloads :\n",
      "72.83393501805052 %\n"
     ]
    }
   ],
   "source": [
    "\n",
    "print('The following are valuable insights from the \"Genre\" column of Google play store dataset :')\n",
    "google_Genres_freq = freq_generator(android_final,9)\n",
    "\n",
    "# Check for top 20 Categories contributions\n",
    "\n",
    "slice_freq = google_Genres_freq[:20]\n",
    "top_20 = 0\n",
    "print('----------------------------------------------------------------')\n",
    "print('Below are the top_20 Genres of most Downloaded apps with their percentage  :')\n",
    "for item in slice_freq:\n",
    "    top_20 += float(item[0])\n",
    "    print(item[1],':',item[0])\n",
    "\n",
    "print('-----------------------------------------------------------------')\n",
    "print('The top_20 apps Genres contribute to Downloads :')\n",
    "print(top_20,'%')\n"
   ]
  },
  {
   "cell_type": "markdown",
   "metadata": {},
   "source": [
    "## Takeaways from Android category and genre frequency table\n",
    "\n",
    "1. The **Genre** column seems to be a  subset of **Category** column until that point of our analysis and is more rational to find patterns from **Genre Column** for in-depth analysis.\n",
    "\n",
    "2. There is no stark difference in genres unlike ios store which is explained below.\n",
    "\n",
    "3. Tools comes first and then Entertainment in most downloaded apps genres with over 8% and 6% respectively.\n",
    "\n",
    "4. Books and refereces make the bottom of the table suggesting that android users do not prefer utitlizing ebooks over \n",
    "   android mobiles\n",
    "   \n",
    "5. Most of the apps downloaded are for practical purposes(e.g. Tools,Business,Education,Finance) rather than leisure(e.g. Entertainment, Social and action games)"
   ]
  },
  {
   "cell_type": "markdown",
   "metadata": {},
   "source": [
    "# IOS Dataset\n",
    "\n",
    "* As done with the android data set, we will make a frequence table for the **prime_genre** column\n",
    "* We will try to observe the top 20 downloaded apps' prime genres\n",
    "* And their contribution to total downloads to get a better insight on market trends"
   ]
  },
  {
   "cell_type": "code",
   "execution_count": 21,
   "metadata": {},
   "outputs": [
    {
     "name": "stdout",
     "output_type": "stream",
     "text": [
      "The following are valuable insights from the \"Prime_Genre\" column of IOS play store dataset :\n",
      "----------------------------------------------------------------\n",
      "Below are the top_20 Categories of most Downloaded apps with their percentages :\n",
      "Games : 58.16263190564867\n",
      "Entertainment : 7.883302296710118\n",
      "Photo & Video : 4.9658597144630665\n",
      "Education : 3.662321539416512\n",
      "Social Networking : 3.2898820608317814\n",
      "Shopping : 2.60707635009311\n",
      "Utilities : 2.5139664804469275\n",
      "Sports : 2.1415270018621975\n",
      "Music : 2.0484171322160147\n",
      "Health & Fitness : 2.0173805090006205\n",
      "Productivity : 1.7380509000620732\n",
      "Lifestyle : 1.5828677839851024\n",
      "News : 1.3345747982619491\n",
      "Travel : 1.2414649286157666\n",
      "Finance : 1.1173184357541899\n",
      "Weather : 0.8690254500310366\n",
      "Food & Drink : 0.8069522036002483\n",
      "Reference : 0.5586592178770949\n",
      "Business : 0.5276225946617008\n",
      "Book : 0.4345127250155183\n",
      "-----------------------------------------------------------------\n",
      "The top_20 apps Categories contribute to Downloads :\n",
      "99.5034140285537 %\n"
     ]
    }
   ],
   "source": [
    "print('The following are valuable insights from the \"Prime_Genre\" column of IOS play store dataset :')\n",
    "ios_primegenres_freq = freq_generator(apple_final,-5)\n",
    "\n",
    "# Check for top 20 Categories contributions\n",
    "\n",
    "slice_freq = ios_primegenres_freq[:20]\n",
    "top_20 = 0\n",
    "print('----------------------------------------------------------------')\n",
    "print('Below are the top_20 Categories of most Downloaded apps with their percentages :')\n",
    "for item in slice_freq:\n",
    "    top_20 += float(item[0])\n",
    "    print(item[1],':',item[0])\n",
    "\n",
    "print('-----------------------------------------------------------------')\n",
    "print('The top_20 apps Categories contribute to Downloads :')\n",
    "print(top_20,'%')\n"
   ]
  },
  {
   "cell_type": "markdown",
   "metadata": {},
   "source": [
    "## Takeaways from ios prime_genre frequency table\n",
    "\n",
    "1. Game is the most common genre with over 58 % of the total downloads.\n",
    "2. Entertainment comes second but there is a stark drop in percentage i.e. only 7.88% apps belong to this genre.\n",
    "3. Books,Reference and Business related apps are the least downloaded.\n",
    "4. Most of the apps downloaded are for leisure (e.g.Games,Entertainment,Photo and Video etc) rather than productivity."
   ]
  },
  {
   "cell_type": "markdown",
   "metadata": {},
   "source": [
    " ## Analyzing ios Dataset wrt. user ratings\n",
    " \n",
    " * In our next step step of analysis, we are interested in seeking out the average ratings for each prime_genre in th apple data set.This will help to separate the genres which got the most user ratings.\n",
    " * That would be a good indicator to look for the market preference.\n",
    " * First of all ,we separate out all the prime_genres of ios data set and store them as  a list\n",
    " * After that we compute the average user rating for each genre, this is attained by adding up the user rating of all apps in the specific category and divided by the total number of apps in that genre.\n",
    " * We also maintain a book_keeping list to sort out the genres with descending order of average user ratings.\n",
    " * After that, we dig deep into the top two genres and seperate out the top apps with respect to user ratings\n",
    " "
   ]
  },
  {
   "cell_type": "code",
   "execution_count": 22,
   "metadata": {},
   "outputs": [
    {
     "name": "stdout",
     "output_type": "stream",
     "text": [
      "\"Function to return the list of  genres \"\"\n",
      "-----------------------------------------------\n",
      "The total number of genres in ios Data set are : 23\n",
      "-----------------------------------------------\n",
      "The ios dataset has the following genres:\n",
      "['Productivity', 'Weather', 'Shopping', 'Reference', 'Finance', 'Music', 'Utilities', 'Travel', 'Social Networking', 'Sports', 'Health & Fitness', 'Games', 'Food & Drink', 'News', 'Book', 'Photo & Video', 'Entertainment', 'Business', 'Lifestyle', 'Education', 'Navigation', 'Medical', 'Catalogs']\n"
     ]
    }
   ],
   "source": [
    "print('\"Function to return the list of  genres \"\"')\n",
    "def freq_generator(dataset,index):\n",
    "    genre_freq = {}\n",
    "    freq_list = []\n",
    "    for row in dataset:\n",
    "        genre_var = row[index]\n",
    "        if genre_var in genre_freq:\n",
    "            genre_freq[genre_var] += 1\n",
    "        else :\n",
    "            genre_freq[genre_var] = 1\n",
    "    for key in genre_freq:\n",
    "        freq_list.append(key)\n",
    "    \n",
    "    return freq_list\n",
    "\n",
    "# calling the function to obtain list of genres\n",
    "\n",
    "primegenre_freq = freq_generator(apple_final,-5)\n",
    "print('-----------------------------------------------')\n",
    "print('The total number of genres in ios Data set are :' , len(primegenre_freq) )\n",
    "print('-----------------------------------------------')\n",
    "print('The ios dataset has the following genres:')\n",
    "\n",
    "\n",
    "print(primegenre_freq)\n",
    "\n"
   ]
  },
  {
   "cell_type": "code",
   "execution_count": 23,
   "metadata": {},
   "outputs": [
    {
     "name": "stdout",
     "output_type": "stream",
     "text": [
      "----------------------------------------------------------------------------------\n",
      "the average ratings wrt. to genre are\n",
      "Productivity : 21028\n",
      "Weather : 31445\n",
      "Shopping : 29182\n",
      "Reference : 33610\n",
      "Finance : 33263\n",
      "Music : 38777\n",
      "Utilities : 34367\n",
      "Travel : 33768\n",
      "Social Networking : 41544\n",
      "Sports : 39354\n",
      "Health & Fitness : 37746\n",
      "Games : 26636\n",
      "Food & Drink : 26704\n",
      "News : 26614\n",
      "Book : 26684\n",
      "Photo & Video : 26786\n",
      "Entertainment : 25713\n",
      "Business : 25611\n",
      "Lifestyle : 25460\n",
      "Education : 24781\n",
      "Navigation : 24895\n",
      "Medical : 24850\n",
      "Catalogs : 24824\n",
      "-----------------------------------------------------------------------------------------\n",
      "Genres sorted with decreasing order of  average user ratings\n"
     ]
    },
    {
     "data": {
      "text/plain": [
       "[(41544, 'Social Networking'),\n",
       " (39354, 'Sports'),\n",
       " (38777, 'Music'),\n",
       " (37746, 'Health & Fitness'),\n",
       " (34367, 'Utilities'),\n",
       " (33768, 'Travel'),\n",
       " (33610, 'Reference'),\n",
       " (33263, 'Finance'),\n",
       " (31445, 'Weather'),\n",
       " (29182, 'Shopping'),\n",
       " (26786, 'Photo & Video'),\n",
       " (26704, 'Food & Drink'),\n",
       " (26684, 'Book'),\n",
       " (26636, 'Games'),\n",
       " (26614, 'News'),\n",
       " (25713, 'Entertainment'),\n",
       " (25611, 'Business'),\n",
       " (25460, 'Lifestyle'),\n",
       " (24895, 'Navigation'),\n",
       " (24850, 'Medical'),\n",
       " (24824, 'Catalogs'),\n",
       " (24781, 'Education'),\n",
       " (21028, 'Productivity')]"
      ]
     },
     "execution_count": 23,
     "metadata": {},
     "output_type": "execute_result"
    }
   ],
   "source": [
    "'''Computing average rating with respect to each genre i.e. \n",
    "   total number of user ratings for the apps that fall into the\n",
    "   genre divided by the total apps in that genre'''\n",
    "print('----------------------------------------------------------------------------------')\n",
    "print('the average ratings wrt. to genre are')\n",
    "book_keeping = [] #list to sort out prime_genres in descending order of average user ratings\n",
    "len_genre = 0\n",
    "total = 0\n",
    "for prime in primegenre_freq:\n",
    "    for row in apple_final:\n",
    "        genre = row[-5]\n",
    "        if genre == prime:\n",
    "            total += float(row[6])\n",
    "            len_genre += 1\n",
    "    average = int(total/len_genre)\n",
    "    book_keeping.append((average,prime))\n",
    "    print(prime,':', average)\n",
    "print('-----------------------------------------------------------------------------------------')\n",
    "print('Genres sorted with decreasing order of  average user ratings')\n",
    "book_keeping = sorted(book_keeping,reverse=True)\n",
    "book_keeping\n"
   ]
  },
  {
   "cell_type": "markdown",
   "metadata": {},
   "source": [
    "# Takeawys from ios user ratings Analysis\n",
    "\n",
    "1. Top two genres from the ios dataset with respect to average user ratings are 'Social Netwroking' and 'Sports'\n",
    "2. The Soical networking is heavily saturated and top five apps have the monopoly over the market.So for a small company,venturing into social networking does not seem a bright idea for a short time span.\n",
    "\n",
    "3. The sports cateogry is interesting.Top two apps make for the most of the user ratings but the saturation is not that visible unlike social networking app.There are possibilities for real time sports applications like fantasy leagues and they prove to be profitable.\n",
    "\n",
    "4. Categories with least average user rating does not mean their demand is likey to decresase in the future.For example ,Navigation category can be exploited with better apps to create a niche for the company"
   ]
  },
  {
   "cell_type": "markdown",
   "metadata": {},
   "source": [
    "## Analyzing Google Dataset wrt. user ratings\n",
    "\n",
    "1. Now we dig into the google data set and perform the same analysis with respect to number of installs.\n",
    "2. For this analysis ,we will consider the **Category** column which is the parent set of **Genre**\n"
   ]
  },
  {
   "cell_type": "code",
   "execution_count": 24,
   "metadata": {},
   "outputs": [
    {
     "name": "stdout",
     "output_type": "stream",
     "text": [
      "\"Function to return the list of  Categories \"\"\n",
      "-----------------------------------------------\n",
      "The total number of Categories in google Data set are : 23\n",
      "-----------------------------------------------\n",
      "The google dataset has the following categories:\n",
      "['ART_AND_DESIGN', 'AUTO_AND_VEHICLES', 'BEAUTY', 'BOOKS_AND_REFERENCE', 'BUSINESS', 'COMICS', 'COMMUNICATION', 'DATING', 'EDUCATION', 'ENTERTAINMENT', 'EVENTS', 'FINANCE', 'FOOD_AND_DRINK', 'HEALTH_AND_FITNESS', 'HOUSE_AND_HOME', 'LIBRARIES_AND_DEMO', 'LIFESTYLE', 'GAME', 'FAMILY', 'MEDICAL', 'SOCIAL', 'SHOPPING', 'PHOTOGRAPHY', 'SPORTS', 'TRAVEL_AND_LOCAL', 'TOOLS', 'PERSONALIZATION', 'PRODUCTIVITY', 'PARENTING', 'WEATHER', 'VIDEO_PLAYERS', 'NEWS_AND_MAGAZINES', 'MAPS_AND_NAVIGATION']\n"
     ]
    }
   ],
   "source": [
    "print('\"Function to return the list of  Categories \"\"')\n",
    "def freq_generator(dataset,index):\n",
    "    genre_freq = {}\n",
    "    freq_list = []\n",
    "    for row in dataset:\n",
    "        genre_var = row[index]\n",
    "        if genre_var in genre_freq:\n",
    "            genre_freq[genre_var] += 1\n",
    "        else :\n",
    "            genre_freq[genre_var] = 1\n",
    "    for key in genre_freq:\n",
    "        freq_list.append(key)\n",
    "    \n",
    "    return freq_list\n",
    "\n",
    "# calling the function to obtain list of genres\n",
    "\n",
    "cat_freq = freq_generator(android_final,1)\n",
    "print('-----------------------------------------------')\n",
    "print('The total number of Categories in google Data set are :' , len(primegenre_freq) )\n",
    "print('-----------------------------------------------')\n",
    "print('The google dataset has the following categories:')\n",
    "\n",
    "\n",
    "print(cat_freq)\n"
   ]
  },
  {
   "cell_type": "code",
   "execution_count": 25,
   "metadata": {},
   "outputs": [
    {
     "name": "stdout",
     "output_type": "stream",
     "text": [
      "----------------------------------------------------------------------------------\n",
      "the average installs wrt. to category are\n",
      "ART_AND_DESIGN : 1986335.0877192982\n",
      "AUTO_AND_VEHICLES : 1196411.2302158272\n",
      "BEAUTY : 1007803.1822916666\n",
      "BOOKS_AND_REFERENCE : 4867493.3795811515\n",
      "BUSINESS : 3239904.3865652727\n",
      "COMICS : 3082056.5296208533\n",
      "COMMUNICATION : 12058498.595932802\n",
      "DATING : 10632003.602623457\n",
      "EDUCATION : 9984222.065046461\n",
      "ENTERTAINMENT : 10079101.528975742\n",
      "EVENTS : 9678965.629605688\n",
      "FINANCE : 8228545.5792\n",
      "FOOD_AND_DRINK : 7879225.043828716\n",
      "HEALTH_AND_FITNESS : 7433042.5659876\n",
      "HOUSE_AND_HOME : 7241961.636636636\n",
      "LIBRARIES_AND_DEMO : 7014916.48094449\n",
      "LIFESTYLE : 6315758.265942029\n",
      "GAME : 8522463.352843734\n",
      "FAMILY : 6995518.677614194\n",
      "MEDICAL : 6612010.389948316\n",
      "SOCIAL : 7283709.970925261\n",
      "SHOPPING : 7275585.640919616\n",
      "PHOTOGRAPHY : 7712773.045822103\n",
      "SPORTS : 7527192.839437046\n",
      "TRAVEL_AND_LOCAL : 7723315.387967718\n",
      "TOOLS : 8028478.234368804\n",
      "PERSONALIZATION : 7922722.195062985\n",
      "PRODUCTIVITY : 8295502.565212091\n",
      "PARENTING : 8241076.501452433\n",
      "WEATHER : 8214096.072842914\n",
      "VIDEO_PLAYERS : 8523291.838789448\n",
      "NEWS_AND_MAGAZINES : 8552401.665331807\n",
      "MAPS_AND_NAVIGATION : 8489513.914147113\n",
      "-----------------------------------------------------------------------------------------\n",
      "Categories sorted with decreasing order of  average installs\n"
     ]
    },
    {
     "data": {
      "text/plain": [
       "[(12058498.595932802, 'COMMUNICATION'),\n",
       " (10632003.602623457, 'DATING'),\n",
       " (10079101.528975742, 'ENTERTAINMENT'),\n",
       " (9984222.065046461, 'EDUCATION'),\n",
       " (9678965.629605688, 'EVENTS'),\n",
       " (8552401.665331807, 'NEWS_AND_MAGAZINES'),\n",
       " (8523291.838789448, 'VIDEO_PLAYERS'),\n",
       " (8522463.352843734, 'GAME'),\n",
       " (8489513.914147113, 'MAPS_AND_NAVIGATION'),\n",
       " (8295502.565212091, 'PRODUCTIVITY'),\n",
       " (8241076.501452433, 'PARENTING'),\n",
       " (8228545.5792, 'FINANCE'),\n",
       " (8214096.072842914, 'WEATHER'),\n",
       " (8028478.234368804, 'TOOLS'),\n",
       " (7922722.195062985, 'PERSONALIZATION'),\n",
       " (7879225.043828716, 'FOOD_AND_DRINK'),\n",
       " (7723315.387967718, 'TRAVEL_AND_LOCAL'),\n",
       " (7712773.045822103, 'PHOTOGRAPHY'),\n",
       " (7527192.839437046, 'SPORTS'),\n",
       " (7433042.5659876, 'HEALTH_AND_FITNESS'),\n",
       " (7283709.970925261, 'SOCIAL'),\n",
       " (7275585.640919616, 'SHOPPING'),\n",
       " (7241961.636636636, 'HOUSE_AND_HOME'),\n",
       " (7014916.48094449, 'LIBRARIES_AND_DEMO'),\n",
       " (6995518.677614194, 'FAMILY'),\n",
       " (6612010.389948316, 'MEDICAL'),\n",
       " (6315758.265942029, 'LIFESTYLE'),\n",
       " (4867493.3795811515, 'BOOKS_AND_REFERENCE'),\n",
       " (3239904.3865652727, 'BUSINESS'),\n",
       " (3082056.5296208533, 'COMICS'),\n",
       " (1986335.0877192982, 'ART_AND_DESIGN'),\n",
       " (1196411.2302158272, 'AUTO_AND_VEHICLES'),\n",
       " (1007803.1822916666, 'BEAUTY')]"
      ]
     },
     "execution_count": 25,
     "metadata": {},
     "output_type": "execute_result"
    }
   ],
   "source": [
    "'''Computing average number of installs with respect to each category i.e. \n",
    "   total number of installs for the apps that fall into the\n",
    "   category divided by the total apps in that category'''\n",
    "print('----------------------------------------------------------------------------------')\n",
    "print('the average installs wrt. to category are')\n",
    "book_keeping2 = [] #list to sort out categories in descending order of average installs\n",
    "length = 0\n",
    "total = 0\n",
    "for cat in cat_freq:\n",
    "    for row in android_final:\n",
    "        category = row[1]\n",
    "        if category == cat:\n",
    "            n_rating = float(row[5].replace('+','').replace(',',''))\n",
    "            total += n_rating\n",
    "            length += 1\n",
    "    \n",
    "    average2 = float(total/length)\n",
    "    book_keeping2.append((average2,cat))\n",
    "    print(cat,':', average2)\n",
    "\n",
    "print('-----------------------------------------------------------------------------------------')\n",
    "print('Categories sorted with decreasing order of  average installs')\n",
    "book_keeping2 = sorted(book_keeping2,reverse=True)\n",
    "book_keeping2\n"
   ]
  },
  {
   "cell_type": "code",
   "execution_count": 26,
   "metadata": {},
   "outputs": [
    {
     "name": "stdout",
     "output_type": "stream",
     "text": [
      "Analyzing top two genres\n",
      "-------------------------------------------------------------\n",
      "The  apps in  highest averaged user rating category \"Communication\" is\n",
      "(1000000000.0, 'Gmail')\n",
      "----------------------------------------------------------------\n",
      "The  apps in  2nd highest averaged user rating category \"Dating\" is\n",
      "[(10000000.0, 'Zoosk Dating App: Meet Singles'), (10000000.0, 'OkCupid Dating'), (10000000.0, 'Moco - Chat, Meet People'), (10000000.0, 'Match™ Dating - Meet Singles'), (10000000.0, 'Hot or Not - Find someone right now')]\n"
     ]
    }
   ],
   "source": [
    "print('Analyzing top two genres')\n",
    "\n",
    "# function t_apps return the list of apps with most installs in descending order\n",
    "\n",
    "def t_apps(dataset,cat):\n",
    "    \n",
    "    app_list = []\n",
    "    for row in dataset:\n",
    "            name = row[0]\n",
    "            category = row[1]\n",
    "            n_rating = float(row[5].replace('+','').replace(',',''))\n",
    "            if category == cat:\n",
    "                app_list.append((n_rating,name))\n",
    "    app_list = sorted(app_list,reverse=True)\n",
    "    return app_list\n",
    "\n",
    "\n",
    "print('-------------------------------------------------------------')\n",
    "print('The  apps in  highest averaged user rating category \"Communication\" is')\n",
    "communication = book_keeping2[0][1]  #top category'Communication'\n",
    "comm_list = t_apps(android_final,communication)\n",
    "print(comm_list[5])\n",
    "print('----------------------------------------------------------------')\n",
    "print('The  apps in  2nd highest averaged user rating category \"Dating\" is')\n",
    "dating = book_keeping2[1][1]\n",
    "dating_list = t_apps(android_final,dating)    #top _2nd category with respect to user ratings\n",
    "print(dating_list[:5])\n",
    "\n",
    "        \n"
   ]
  },
  {
   "cell_type": "markdown",
   "metadata": {},
   "source": [
    "# Takeawys from Android number of installs Analysis\n",
    "\n",
    "1. Top two categories with respect to average number of installs are communication and dating.\n",
    "2. Both two categories are pretty much saturated with top 5 apps having a visible monopoly.\n",
    "3. It is not advisable to venture into these categories for fast paced ad revenue.\n",
    "4. Rather since from our previous analysis of total number of apps in each category and from this data,it is a nice bet\n",
    "   to look into development of apps with **productivity** and **tools** category because they in the middle of most installs table and show promising future since android users prefer productivity apps more than leisure one"
   ]
  },
  {
   "cell_type": "code",
   "execution_count": null,
   "metadata": {},
   "outputs": [],
   "source": []
  }
 ],
 "metadata": {
  "kernelspec": {
   "display_name": "Python 3",
   "language": "python",
   "name": "python3"
  },
  "language_info": {
   "codemirror_mode": {
    "name": "ipython",
    "version": 3
   },
   "file_extension": ".py",
   "mimetype": "text/x-python",
   "name": "python",
   "nbconvert_exporter": "python",
   "pygments_lexer": "ipython3",
   "version": "3.7.0"
  }
 },
 "nbformat": 4,
 "nbformat_minor": 2
}
